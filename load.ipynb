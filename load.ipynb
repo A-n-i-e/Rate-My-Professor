{
 "cells": [
  {
   "cell_type": "code",
   "execution_count": 2,
   "metadata": {},
   "outputs": [],
   "source": [
    "from dotenv import load_dotenv\n",
    "\n",
    "load_dotenv()\n",
    "import os\n",
    "\n",
    "import google.generativeai as genai\n",
    "from pinecone import Pinecone, ServerlessSpec\n",
    "\n"
   ]
  },
  {
   "cell_type": "code",
   "execution_count": 3,
   "metadata": {},
   "outputs": [],
   "source": [
    "pc = Pinecone(api_key=os.getenv(\"PINECONE_API_KEY\"))\n",
    "\n",
    "pc.create_index(\n",
    "    name='rag', dimension= 768, metric= 'cosine', spec=ServerlessSpec(cloud=\"aws\", region='us-east-1')\n",
    ")"
   ]
  },
  {
   "cell_type": "code",
   "execution_count": 12,
   "metadata": {},
   "outputs": [
    {
     "data": {
      "text/plain": [
       "[{'professor': 'Dr. Emily Johnson',\n",
       "  'subject': 'Physics',\n",
       "  'stars': 5,\n",
       "  'review': \"Dr. Johnson's lectures are incredibly engaging and she explains complex concepts with great clarity. Her passion for physics is contagious!\"},\n",
       " {'professor': 'Prof. Michael Chen',\n",
       "  'subject': 'Computer Science',\n",
       "  'stars': 4,\n",
       "  'review': 'Prof. Chen is knowledgeable and provides practical coding examples. Sometimes his pace is a bit fast, but overall a great instructor.'},\n",
       " {'professor': 'Dr. Sarah Williams',\n",
       "  'subject': 'Psychology',\n",
       "  'stars': 3,\n",
       "  'review': 'Dr. Williams covers the material well, but her assignments can be vague. Office hours are helpful for clarification.'},\n",
       " {'professor': 'Prof. David Martinez',\n",
       "  'subject': 'Literature',\n",
       "  'stars': 5,\n",
       "  'review': 'Prof. Martinez brings literature to life! His enthusiasm and deep understanding of the texts make every class a joy to attend.'},\n",
       " {'professor': 'Dr. Lisa Thompson',\n",
       "  'subject': 'Biology',\n",
       "  'stars': 2,\n",
       "  'review': 'Dr. Thompson seems disorganized and often goes off-topic. The lab sessions are informative, but lectures need improvement.'},\n",
       " {'professor': 'Prof. Robert Anderson',\n",
       "  'subject': 'History',\n",
       "  'stars': 4,\n",
       "  'review': 'Prof. Anderson has a wealth of knowledge and tells great historical anecdotes. His exams are challenging but fair.'},\n",
       " {'professor': 'Dr. Olivia Lee',\n",
       "  'subject': 'Chemistry',\n",
       "  'stars': 5,\n",
       "  'review': 'Dr. Lee is an exceptional educator. Her clear explanations and interactive demonstrations make complex chemical concepts easy to grasp.'},\n",
       " {'professor': 'Prof. James Wilson',\n",
       "  'subject': 'Mathematics',\n",
       "  'stars': 3,\n",
       "  'review': 'Prof. Wilson knows his subject well, but can be impatient with students who struggle. His problem sets are very challenging.'},\n",
       " {'professor': 'Dr. Maria Garcia',\n",
       "  'subject': 'Sociology',\n",
       "  'stars': 4,\n",
       "  'review': 'Dr. Garcia facilitates great class discussions and relates course material to current events. Some readings are quite dense.'},\n",
       " {'professor': 'Prof. Thomas Brown',\n",
       "  'subject': 'Economics',\n",
       "  'stars': 1,\n",
       "  'review': \"Prof. Brown's lectures are dry and hard to follow. The textbook is more helpful than the actual classes.\"},\n",
       " {'professor': 'Dr. Rachel Kim',\n",
       "  'subject': 'Art History',\n",
       "  'stars': 5,\n",
       "  'review': \"Dr. Kim's passion for art is infectious. Her virtual museum tours and in-depth analyses of artworks are eye-opening experiences.\"},\n",
       " {'professor': 'Prof. Alexander Novak',\n",
       "  'subject': 'Political Science',\n",
       "  'stars': 4,\n",
       "  'review': 'Prof. Novak presents balanced viewpoints on complex political issues. His debate sessions are particularly enlightening.'},\n",
       " {'professor': 'Dr. Samantha Patel',\n",
       "  'subject': 'Environmental Science',\n",
       "  'stars': 5,\n",
       "  'review': 'Dr. Patel combines theoretical knowledge with practical fieldwork brilliantly. Her course has completely changed my perspective on environmental issues.'},\n",
       " {'professor': 'Prof. William Taylor',\n",
       "  'subject': 'Philosophy',\n",
       "  'stars': 3,\n",
       "  'review': \"Prof. Taylor's lectures are thought-provoking, but sometimes too abstract. More concrete examples would help in understanding the concepts better.\"},\n",
       " {'professor': 'Dr. Jennifer Lopez',\n",
       "  'subject': 'Neuroscience',\n",
       "  'stars': 4,\n",
       "  'review': 'Dr. Lopez explains complex neurological concepts in an understandable way. Her lab demonstrations are particularly helpful.'},\n",
       " {'professor': 'Prof. Daniel Wright',\n",
       "  'subject': 'Statistics',\n",
       "  'stars': 2,\n",
       "  'review': 'Prof. Wright seems knowledgeable but struggles to explain concepts clearly. The course relies heavily on the textbook and online resources.'},\n",
       " {'professor': 'Dr. Elizabeth Chen',\n",
       "  'subject': 'Linguistics',\n",
       "  'stars': 5,\n",
       "  'review': \"Dr. Chen's enthusiasm for languages is contagious. Her interactive teaching methods make learning about linguistic structures fun and engaging.\"},\n",
       " {'professor': 'Prof. Christopher Lee',\n",
       "  'subject': 'Marketing',\n",
       "  'stars': 4,\n",
       "  'review': 'Prof. Lee brings real-world experience to the classroom. His case studies and group projects provide valuable insights into modern marketing strategies.'},\n",
       " {'professor': 'Dr. Alicia Ramirez',\n",
       "  'subject': 'Anthropology',\n",
       "  'stars': 5,\n",
       "  'review': \"Dr. Ramirez's firsthand experiences from her fieldwork make her lectures captivating. She encourages critical thinking about cultural practices.\"},\n",
       " {'professor': 'Prof. Jonathan Green',\n",
       "  'subject': 'Music Theory',\n",
       "  'stars': 3,\n",
       "  'review': 'Prof. Green is clearly passionate about music, but his teaching style can be a bit dry. The practical exercises are more helpful than the lectures.'},\n",
       " {'professor': 'Dr. Michelle Carter',\n",
       "  'subject': 'Genetics',\n",
       "  'stars': 4,\n",
       "  'review': 'Dr. Carter simplifies complex genetic concepts effectively. Her office hours are particularly helpful for clarifying doubts.'},\n",
       " {'professor': 'Prof. Richard Brown',\n",
       "  'subject': 'Mechanical Engineering',\n",
       "  'stars': 2,\n",
       "  'review': \"Prof. Brown's assignments are overly difficult and often unrelated to exam material. Lectures could use more practical examples.\"},\n",
       " {'professor': 'Dr. Laura Martinez',\n",
       "  'subject': 'Public Health',\n",
       "  'stars': 5,\n",
       "  'review': \"Dr. Martinez's course is eye-opening. She effectively relates public health issues to current events and encourages community involvement.\"},\n",
       " {'professor': \"Prof. Kevin O'Brien\",\n",
       "  'subject': 'Film Studies',\n",
       "  'stars': 4,\n",
       "  'review': \"Prof. O'Brien's analysis of films is insightful. The course offers a good balance of film theory and practical criticism.\"},\n",
       " {'professor': 'Dr. Sophia Lee',\n",
       "  'subject': 'Organic Chemistry',\n",
       "  'stars': 3,\n",
       "  'review': 'Dr. Lee is knowledgeable but her pacing can be too fast. The lab sessions are well-organized and helpful in understanding reactions.'}]"
      ]
     },
     "execution_count": 12,
     "metadata": {},
     "output_type": "execute_result"
    }
   ],
   "source": [
    "import json\n",
    "data = json.load(open(\"reviews.json\"))\n",
    "data[\"reviews\"]"
   ]
  },
  {
   "cell_type": "code",
   "execution_count": 20,
   "metadata": {},
   "outputs": [
    {
     "name": "stdout",
     "output_type": "stream",
     "text": [
      "{'professor': 'Dr. Emily Johnson', 'subject': 'Physics', 'stars': 5, 'review': \"Dr. Johnson's lectures are incredibly engaging and she explains complex concepts with great clarity. Her passion for physics is contagious!\"}\n"
     ]
    },
    {
     "ename": "TypeError",
     "evalue": "embed_content() got an unexpected keyword argument 'text'",
     "output_type": "error",
     "traceback": [
      "\u001b[1;31m---------------------------------------------------------------------------\u001b[0m",
      "\u001b[1;31mTypeError\u001b[0m                                 Traceback (most recent call last)",
      "Cell \u001b[1;32mIn[20], line 7\u001b[0m\n\u001b[0;32m      5\u001b[0m \u001b[38;5;28;01mfor\u001b[39;00m review \u001b[38;5;129;01min\u001b[39;00m data[\u001b[38;5;124m\"\u001b[39m\u001b[38;5;124mreviews\u001b[39m\u001b[38;5;124m\"\u001b[39m]:\n\u001b[0;32m      6\u001b[0m     \u001b[38;5;28mprint\u001b[39m(review)\n\u001b[1;32m----> 7\u001b[0m     response \u001b[38;5;241m=\u001b[39m \u001b[43mgenai\u001b[49m\u001b[38;5;241;43m.\u001b[39;49m\u001b[43membed_content\u001b[49m\u001b[43m(\u001b[49m\n\u001b[0;32m      8\u001b[0m \u001b[43m        \u001b[49m\u001b[43mmodel\u001b[49m\u001b[38;5;241;43m=\u001b[39;49m\u001b[38;5;124;43m\"\u001b[39;49m\u001b[38;5;124;43mmodels/text-embedding-004\u001b[39;49m\u001b[38;5;124;43m\"\u001b[39;49m\u001b[43m,\u001b[49m\n\u001b[0;32m      9\u001b[0m \u001b[43m        \u001b[49m\u001b[43mtext\u001b[49m\u001b[38;5;241;43m=\u001b[39;49m\u001b[43mreview\u001b[49m\u001b[43m[\u001b[49m\u001b[38;5;124;43m'\u001b[39;49m\u001b[38;5;124;43mreview\u001b[39;49m\u001b[38;5;124;43m'\u001b[39;49m\u001b[43m]\u001b[49m\n\u001b[0;32m     10\u001b[0m \u001b[43m    \u001b[49m\u001b[43m)\u001b[49m\n\u001b[0;32m     12\u001b[0m     embedding \u001b[38;5;241m=\u001b[39m response\u001b[38;5;241m.\u001b[39mdata[\u001b[38;5;241m0\u001b[39m]\u001b[38;5;241m.\u001b[39membedding\n\u001b[0;32m     13\u001b[0m     processed_data\u001b[38;5;241m.\u001b[39mappend({\n\u001b[0;32m     14\u001b[0m         \u001b[38;5;124m\"\u001b[39m\u001b[38;5;124mprofessor\u001b[39m\u001b[38;5;124m\"\u001b[39m: review[\u001b[38;5;124m\"\u001b[39m\u001b[38;5;124mprofessor\u001b[39m\u001b[38;5;124m\"\u001b[39m],\n\u001b[0;32m     15\u001b[0m         \u001b[38;5;124m\"\u001b[39m\u001b[38;5;124msubject\u001b[39m\u001b[38;5;124m\"\u001b[39m: review[\u001b[38;5;124m\"\u001b[39m\u001b[38;5;124msubject\u001b[39m\u001b[38;5;124m\"\u001b[39m],\n\u001b[0;32m     16\u001b[0m         \u001b[38;5;124m\"\u001b[39m\u001b[38;5;124mstars\u001b[39m\u001b[38;5;124m\"\u001b[39m: review[\u001b[38;5;124m\"\u001b[39m\u001b[38;5;124mstars\u001b[39m\u001b[38;5;124m\"\u001b[39m],\n\u001b[0;32m     17\u001b[0m         \u001b[38;5;124m\"\u001b[39m\u001b[38;5;124membedding\u001b[39m\u001b[38;5;124m\"\u001b[39m: embedding\n\u001b[0;32m     18\u001b[0m     })\n",
      "\u001b[1;31mTypeError\u001b[0m: embed_content() got an unexpected keyword argument 'text'"
     ]
    }
   ],
   "source": [
    "genai.configure(api_key=os.environ[\"GEMINI_API_KEY\"])\n",
    "processed_data = []\n",
    "\n",
    "\n",
    "for review in data[\"reviews\"]:\n",
    "    print(review)\n",
    "    response = genai.embed_content(\n",
    "        model=\"models/text-embedding-004\",\n",
    "        text=review['review']\n",
    "    )\n",
    "\n",
    "    embedding = response.data[0].embedding\n",
    "    processed_data.append({\n",
    "        \"professor\": review[\"professor\"],\n",
    "        \"subject\": review[\"subject\"],\n",
    "        \"stars\": review[\"stars\"],\n",
    "        \"embedding\": embedding\n",
    "    })"
   ]
  },
  {
   "cell_type": "code",
   "execution_count": null,
   "metadata": {},
   "outputs": [],
   "source": []
  },
  {
   "cell_type": "code",
   "execution_count": null,
   "metadata": {},
   "outputs": [],
   "source": []
  }
 ],
 "metadata": {
  "kernelspec": {
   "display_name": "rag-app",
   "language": "python",
   "name": "python3"
  },
  "language_info": {
   "codemirror_mode": {
    "name": "ipython",
    "version": 3
   },
   "file_extension": ".py",
   "mimetype": "text/x-python",
   "name": "python",
   "nbconvert_exporter": "python",
   "pygments_lexer": "ipython3",
   "version": "3.10.14"
  }
 },
 "nbformat": 4,
 "nbformat_minor": 2
}
